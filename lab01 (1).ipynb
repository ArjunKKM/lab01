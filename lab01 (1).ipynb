{
  "nbformat": 4,
  "nbformat_minor": 0,
  "metadata": {
    "colab": {
      "provenance": []
    },
    "kernelspec": {
      "name": "python3",
      "display_name": "Python 3"
    },
    "language_info": {
      "name": "python"
    }
  },
  "cells": [
    {
      "cell_type": "code",
      "source": [
        "pip install requests"
      ],
      "metadata": {
        "colab": {
          "base_uri": "https://localhost:8080/"
        },
        "id": "wrCyRwbNDABs",
        "outputId": "a7ba3c15-cfa0-43af-f6e9-cfdab03f8deb"
      },
      "execution_count": 1,
      "outputs": [
        {
          "output_type": "stream",
          "name": "stdout",
          "text": [
            "Requirement already satisfied: requests in /usr/local/lib/python3.10/dist-packages (2.31.0)\n",
            "Requirement already satisfied: charset-normalizer<4,>=2 in /usr/local/lib/python3.10/dist-packages (from requests) (3.2.0)\n",
            "Requirement already satisfied: idna<4,>=2.5 in /usr/local/lib/python3.10/dist-packages (from requests) (3.4)\n",
            "Requirement already satisfied: urllib3<3,>=1.21.1 in /usr/local/lib/python3.10/dist-packages (from requests) (2.0.4)\n",
            "Requirement already satisfied: certifi>=2017.4.17 in /usr/local/lib/python3.10/dist-packages (from requests) (2023.7.22)\n"
          ]
        }
      ]
    },
    {
      "cell_type": "code",
      "source": [
        "pip install BeautifulSoup"
      ],
      "metadata": {
        "id": "QDsmrAzFO3Hn",
        "colab": {
          "base_uri": "https://localhost:8080/"
        },
        "outputId": "45f59c92-44a6-422c-b9a8-3059daf5406c"
      },
      "execution_count": 2,
      "outputs": [
        {
          "output_type": "stream",
          "name": "stdout",
          "text": [
            "Collecting BeautifulSoup\n",
            "  Downloading BeautifulSoup-3.2.2.tar.gz (32 kB)\n",
            "  \u001b[1;31merror\u001b[0m: \u001b[1msubprocess-exited-with-error\u001b[0m\n",
            "  \n",
            "  \u001b[31m×\u001b[0m \u001b[32mpython setup.py egg_info\u001b[0m did not run successfully.\n",
            "  \u001b[31m│\u001b[0m exit code: \u001b[1;36m1\u001b[0m\n",
            "  \u001b[31m╰─>\u001b[0m See above for output.\n",
            "  \n",
            "  \u001b[1;35mnote\u001b[0m: This error originates from a subprocess, and is likely not a problem with pip.\n",
            "  Preparing metadata (setup.py) ... \u001b[?25l\u001b[?25herror\n",
            "\u001b[1;31merror\u001b[0m: \u001b[1mmetadata-generation-failed\u001b[0m\n",
            "\n",
            "\u001b[31m×\u001b[0m Encountered error while generating package metadata.\n",
            "\u001b[31m╰─>\u001b[0m See above for output.\n",
            "\n",
            "\u001b[1;35mnote\u001b[0m: This is an issue with the package mentioned above, not pip.\n",
            "\u001b[1;36mhint\u001b[0m: See above for details.\n"
          ]
        }
      ]
    },
    {
      "cell_type": "code",
      "source": [
        "import pandas as pd"
      ],
      "metadata": {
        "id": "65MuQ4xPfUCz"
      },
      "execution_count": 3,
      "outputs": []
    },
    {
      "cell_type": "code",
      "execution_count": 4,
      "metadata": {
        "id": "YJxdwZhQ9ALp"
      },
      "outputs": [],
      "source": [
        "import requests"
      ]
    },
    {
      "cell_type": "code",
      "source": [
        "from bs4 import BeautifulSoup"
      ],
      "metadata": {
        "id": "YFfV8N3YDtZG"
      },
      "execution_count": 5,
      "outputs": []
    },
    {
      "cell_type": "code",
      "source": [
        "url =\"https://cpsc.yale.edu/people/faculty\""
      ],
      "metadata": {
        "id": "ztqpQJfB9LGj"
      },
      "execution_count": 6,
      "outputs": []
    },
    {
      "cell_type": "code",
      "source": [
        "response = requests.get(url)"
      ],
      "metadata": {
        "id": "uggydjtzC0Nl"
      },
      "execution_count": 7,
      "outputs": []
    },
    {
      "cell_type": "code",
      "source": [
        "response = response.content"
      ],
      "metadata": {
        "id": "uK9LyRA7DQXs"
      },
      "execution_count": 8,
      "outputs": []
    },
    {
      "cell_type": "code",
      "source": [
        "soup = BeautifulSoup(response,'html.parser')"
      ],
      "metadata": {
        "id": "-Vs-rNYYDhRE"
      },
      "execution_count": 9,
      "outputs": []
    },
    {
      "cell_type": "code",
      "source": [
        "soup"
      ],
      "metadata": {
        "id": "gK8Wtw4oKTXF"
      },
      "execution_count": null,
      "outputs": []
    },
    {
      "cell_type": "code",
      "source": [
        "tables = soup.find('table')"
      ],
      "metadata": {
        "id": "a9DBf73AELt-"
      },
      "execution_count": 11,
      "outputs": []
    },
    {
      "cell_type": "code",
      "source": [
        "tables"
      ],
      "metadata": {
        "id": "J_1vhGpSIpCJ"
      },
      "execution_count": null,
      "outputs": []
    },
    {
      "cell_type": "code",
      "source": [
        "pro_info= tables.find_all('a', class_=\"username\")\n",
        "prof_names = [x.get_text().rstrip() for x in pro_info]\n",
        "print(prof_names)\n"
      ],
      "metadata": {
        "id": "c7HwTakiIMyz",
        "colab": {
          "base_uri": "https://localhost:8080/"
        },
        "outputId": "a0312fcd-1245-452a-d4a7-9fc6d62186e9"
      },
      "execution_count": 13,
      "outputs": [
        {
          "output_type": "stream",
          "name": "stdout",
          "text": [
            "['James Aspnes', 'Abhishek Bhattacharjee', 'Yang Cai', 'Arman Cohan', 'Yongshan Ding', 'Julie Dorsey', 'Joan Feigenbaum', 'Ben Fisch', 'Michael Fischer', 'Tesca Fitzgerald', 'David Gelernter', 'Anurag Khandelwal', 'Theodore Kim', 'Smita Krishnaswamy', 'Charalampos Papamanthou', 'Ruzica Piskac', 'Daniel Rakita', 'Vladimir Rokhlin', 'Holly Rushmeier', 'Brian Scassellati', 'Zhong Shao', 'Abraham Silberschatz', 'Aikaterini Sotiraki', 'Robert Soulé', 'Dan Spielman', 'Marynel Vázquez', 'Nisheeth Vishnoi', 'Andre Wibisono', 'Alex Wong', 'Y. Richard Yang', 'Zhitao Ying', 'Emmanouil Zampetakis', 'Fan Zhang', 'Lin Zhong', 'Steven Zucker']\n"
          ]
        }
      ]
    },
    {
      "cell_type": "code",
      "source": [
        "print(str(pro_info[0]))"
      ],
      "metadata": {
        "colab": {
          "base_uri": "https://localhost:8080/"
        },
        "id": "nG9c2uuQmjuu",
        "outputId": "4d39e5fe-b202-465f-b694-dd4f4dd5018e"
      },
      "execution_count": 14,
      "outputs": [
        {
          "output_type": "stream",
          "name": "stdout",
          "text": [
            "<a class=\"username\" href=\"/people/james-aspnes\" title=\"View user profile.\">James Aspnes</a>\n"
          ]
        }
      ]
    },
    {
      "cell_type": "code",
      "source": [
        "trial_soup = BeautifulSoup(str(pro_info[0]), 'html.parser')\n"
      ],
      "metadata": {
        "id": "o4OkgTxYm8qY"
      },
      "execution_count": 15,
      "outputs": []
    },
    {
      "cell_type": "code",
      "source": [
        "trial_soup"
      ],
      "metadata": {
        "colab": {
          "base_uri": "https://localhost:8080/"
        },
        "id": "h4orLw7Kn70u",
        "outputId": "da2d14b7-938d-4b80-f1bb-7ee69c783c4a"
      },
      "execution_count": 16,
      "outputs": [
        {
          "output_type": "execute_result",
          "data": {
            "text/plain": [
              "<a class=\"username\" href=\"/people/james-aspnes\" title=\"View user profile.\">James Aspnes</a>"
            ]
          },
          "metadata": {},
          "execution_count": 16
        }
      ]
    },
    {
      "cell_type": "code",
      "source": [
        "\n",
        "\n",
        "# Find all rows with class \"views-field-name\"\n",
        "name_rows = tables.find_all('td', class_='views-field views-field-name')\n",
        "education_info=[]\n",
        "for row in name_rows:\n",
        "    # Extract the text inside the \"views-field-name\" cell\n",
        "    text = row.get_text()\n",
        "\n",
        "    # Extract education information using a simple split\n",
        "    education = text.split(',')[1:]\n",
        "\n",
        "    # Append education information to the list\n",
        "    education_info.append(education)\n",
        "# Print the extracted education information\n",
        "for education in education_info:\n",
        "     print(\"Bio:\", \", \".join(education))\n"
      ],
      "metadata": {
        "colab": {
          "base_uri": "https://localhost:8080/"
        },
        "id": "NJho6-gtk3d8",
        "outputId": "46e31d3a-9a4c-448f-9379-767ee2831b66"
      },
      "execution_count": 28,
      "outputs": [
        {
          "output_type": "stream",
          "name": "stdout",
          "text": [
            "Bio:  PhD (CS) 1992,  Carnegie-Mellon University; SM (EECS) 1987,  Massachusetts Institute of Technology; SB (Math) 1987,  Massachusetts Institute of Technology. Joined Yale Faculty 1993. Harold W. Cheel Professor of Computer ScienceAKW 401,  51 Prospect St,  New Haven,  CT 06511james.aspnes@yale.eduPhone: 203-533-9862 Website \n",
            "Bio:  Ph.D.,  Princeton University,  B.Eng,  McGill University. Joined Yale Faculty 2019. Professor of Computer Science AKW 213,  51 Prospect Street,  New Haven,  CT 06511abhishek@cs.yale.eduWebsite \n",
            "Bio:  Ph.D.,  Computer Science,  2013 MIT;  B.S.,  EECS,  2008 Peking University. Joined Yale Faculty 2019. Associate Professor of Computer Science and EconomicsAKW 509,  51 Prospect Street,  New Haven,  CT 06511yang.cai@yale.eduPhone: 203-432-1229Website \n",
            "Bio:  Ph.D.,  Computer Science,  2018 Georgetown University. Joined Yale Faculty January 2023. Assistant Professor51 Prospect Street,  New Haven,  CT 06511arman.cohan@yale.eduWebsite \n",
            "Bio:  B.S.,  Carnegie Mellon University,  Ph.D.,  University of Chicago. Joined Yale Faculty 2021. Assistant Professor of Computer ScienceAKW 204,  51 Prospect Street,  New Haven,  CT 06511yongshan.ding@yale.eduWebsite \n",
            "Bio:  B.S.,  B. Arch. 1987,  M.S. 1990,  Ph.D. 1993 Cornell University. Joined Yale Faculty 2002. Frederick W. Beinecke Professor of Computer Science; Deputy Dean,  Faculty Affairs - SEASAKW 508,  51 Prospect St,  New Haven,  CT 06511julie.dorsey@yale.eduPhone: 203-432-4249Website \n",
            "Bio:  B.A.,  Mathematics,  Harvard,  1981 Ph.D.,  Computer Science,  Stanford,  1986. Joined Yale Faculty 2000.  Grace Murray Hopper Professor of Computer Science and EconomicsAKW 512,  51 Prospect St,  New Haven,  CT 06511joan.feigenbaum@yale.eduPhone: 203-432-6432Website \n",
            "Bio:  B.A.,  University of Pennsylvania; Ph.D.,  Stanford University. Joined Yale Faculty 2022. Assistant ProfessorAKW  406,  51 Prospect Street,  New Haven,  CT 06511benjamin.fisch@yale.eduPhone: 203-432-6496Website \n",
            "Bio:  B.S.,  University of Michigan,  1963 M.A.,  Ph.D.,  Harvard University,  1965,  1968. Joined Yale Faculty 1981.  Professor of Computer Science AKW 408,  51 Prospect St,  New Haven,  CT 06511michael.fischer@yale.eduPhone: 203-432-1270Website \n",
            "Bio:  Ph.D.,  Georgia Institute of Technology; B.S.,  Portland State University. Joined Yale Faculty July 2022. Assistant ProfessorAKW 502,  51 Prospect Street,  New Haven,  CT 06511tesca.fitzgerald@yale.eduPhone: 203-432-1245Website \n",
            "Bio:  B.A.,  Yale University,  1976 Ph.D.,  The State University of New York at Stony Brook,  1982 Joined Yale Faculty 1982  Professor of Computer Science AKW 107,  51 Prospect St,  New Haven,  CT 06511david.gelernter@yale.eduPhone: 203-432-1240          \n",
            "Bio:  PhD Uni­versity of Cali­for­nia,  Berke­ley. Joined Yale Faculty January 2020. Assistant Professor of Computer ScienceAKW 205,  51 Prospect Street,  New Haven,  CT 06511anurag.khandelwal_@yale.eduWebsite \n",
            "Bio:  B.S.,  Cornell University,  M.S.,  University of North Carolina,  Chapel Hill,  Ph.D.,  University of North Carolina,  Chapel Hill. Joined Yale Faculty 2019.  Associate Professor of Computer ScienceAKW 412,  51 Prospect Street,  New Haven,  CT 06511theodore.kim@yale.eduWebsite \n",
            "Bio:  Ph.D.,  University of Michigan; M.S.,  University of Michigan; B.A.,  Kalamazoo College,   B.S.,  University of Michigan. Joined Yale Faculty in 2015 Associate Professor of Computer Science and GeneticsDunham Lab 227smita.krishnaswamy@yale.eduPhone: +1 (734) 678-7428Website \n",
            "Bio:  Ph.D.,  Brown University. Joined Yale faculty July 2021. Associate Professor of Computer ScienceAKW 414,  51 Prospect Street,  New Haven,  CT 06511charalampos.papamanthou@yale.eduPhone: 203-432-1008Website \n",
            "Bio:  Ph.D EPFL,  Switzerland 2011. Joined Yale Faculty 2013. Donna L. Dubinsky Associate Professor of Computer ScienceAKW 212,  51 Prospect St,  New Haven,  CT 06511ruzica.piskac@yale.eduPhone: 203-432-8001Website \n",
            "Bio:  2017 Masters of Computer Science – University of Wisconsin-Madison 2022 Ph.D. in Computer Science – University of Wisconsin-Madison. Joined Yale Faculty 2022. Assistant Professor51 Prospect Street,  New Haven,  CT 06511daniel.rakita@yale.edu \n",
            "Bio:  M.S.,  University of Vilnius in Lithuania; Ph.D.,  Rice University Arthur K. Watson Professor Computer Science and Mathematics; Director of Graduate Studies in Computer Science. Joined Yale Faculty 1985.AKW 108,  51 Prospect St,  New Haven,  CT 06511vladimir.rokhlin@yale.eduPhone: 203-432-1278          \n",
            "Bio:  Cornell University,  Ithaca,  NY Major: Mechanical Engineering BS 1977,  MS 1986,  PhD 1988. Joined Yale Faculty 2004. John C. Malone Professor of Computer Science; Department Chair of Computer ScienceAKW 207,  51 Prospect St,  New Haven,  CT 06511holly.rushmeier@yale.eduPhone: 203-432-4091Website \n",
            "Bio:  B.S.,  Brain and Cognitive Science,  MIT,  1995 B.S.,  M.Eng.,  Ph.D.,  Computer Science,  MIT,  1995,  1995,  2001 Joined Yale Faculty 2001. A. Bartlett Giamatti Professor of Computer Science and Professor of Mechanical Engineering and Materials ScienceAKW 501,  51 Prospect St,  New Haven,  CT 06511brian.scassellati@yale.eduPhone: 203-432-1219Website \n",
            "Bio:  B.S.,  University of Science and Technology of China,  1988 M.A.,  Ph.D.,  Princeton University,  1991,  1994. Joined Yale Faculty 1994.  Thomas L. Kempner Professor of Computer ScienceAKW 314,  51 Prospect St,  New Haven,  CT 06511zhong.shao@yale.eduPhone: 203-432-6828Website \n",
            "Bio:  Ph.D. in Computer Science,  State University of New York (SUNY) at Stony Brook,  1976. Joined Yale Faculty 2003. Sidney J. Weinberg Professor Computer Science AKW 308,  51 Prospect St,  New Haven,  CT 06511abraham.silberschatz@yale.eduPhone: 203-432-4713Website \n",
            "Bio:  Ph.D.,  Massachusetts Institute of Technology; M.S.,  Massachusetts Institute of Technology; B.S,  National Technical University of Athens. Joined Yale Faculty 2023. Assistant Professor of Computer Science51 Prospect Street,  New Haven,  CT 06511aikaterini.sotiraki@yale.eduWebsite \n",
            "Bio:  Ph.D. in Computer Science,  New York University,  2012; M.Sc. in Computer Science,  New York University,  2006; B.A. Brown University 1999. Joined Yale Faculty 2019. Associate Professor of Computer ScienceAKW 206,  51 Prospect Street,  New Haven,  CT 06511robert.soule@yale.eduPhone: 203.432.1215Website \n",
            "Bio:  B.A. Yale 1992 Ph.D. MIT 1995. Joined Yale Faculty 2005. Sterling Professor of Computer Science and Professor of Statistics and Data Science and of MathematicsRoom 340,  17 Hillhouse Avenue,  New Haven,  CT 06511daniel.spielman@yale.eduPhone: 203-436-1264Website \n",
            "Bio:  Robotics Ph.D.,  M.S.,  Carnegie Mellon University B.Eng.,  Universidad Simón Bolívar,  Venezuela. Assistant ProfessorAKW 402,  51 Prospect Street,  New Haven,  CT 06511marynel.vazquez@yale.eduPhone: 203-432-1741Website \n",
            "Bio:  B. Tech.,  Computer Science and Engineering ,  Indian Institute of Technology Bombay,  1995-1999 Ph. D.,  Algorithms,  Combinatorics and Optimization,  Georgia Institute of Technology,  1999-2004. Joined Yale Faculty January 2019. A. Bartlett Giamatti Professor of Computer Science10 Hillhouse Avenue,  New Haven,  CT 06511nisheeth.vishnoi@yale.eduWebsite \n",
            "Bio:  PhD in Computer Science from the University of California,  Berkeley. Joined Yale Faculty January 2021. Assistant Professor51 Prospect Street,  New Haven,  CT 06511andre.wibisono@yale.eduWebsite \n",
            "Bio:  B.S. in Computer Science,  Univ. of California,  Los Angeles; M.S. in Computer Science,  Univ. of California,  Los Angeles; Ph.D. in Computer Science,  Univ. of California,  Los Angeles. Joined Yale Faculty 2022. Assistant Professor17 Hillhouse Avenue,  New Haven,  CT 06511,  Room 227alex.wong@yale.eduWebsite \n",
            "Bio:  B.E.,  Tsinghua University,  1993 M.S.,  Ph.D.,  The University of Texas at Austin,  1998,  2001. Joined Yale Faculty 2001.  Professor of Computer Science and Electrical Engineering; Director of Undergraduate Studies Computer ScienceAKW 308A,  51 Prospect St,  New Haven,  CT 06511yang.r.yang@yale.eduPhone: 203-432-6400Website \n",
            "Bio:  Ph.D.,  Stanford University; B.S.,  Duke University. Joined Yale Faculty July 2022. Assistant Professor of Computer Science51 Prospect Street,  New Haven,  CT 06511zhitao.ying@yale.eduPhone: +1 (650) 250-9998Website \n",
            "Bio:  Ph.D.,  Massachusetts Institute of Technology; M.S.,  Massachusetts Institute of Technology; Diploma in Engineering,  National Technical University of Athens. Joined Yale Faculty 2023. Assistant Professor of Computer Science17 Hillhouse Ave.,  New Haven,  CT 06511emmanouil.zampetakis@yale.eduWebsite \n",
            "Bio:  Ph.D.,  Cornell University; B.S.,  Tsinghua University. Joined Yale Faculty July 2022. Assistant Professor51 Prospect Street,  New Haven,  CT 06511f.zhang@yale.eduWebsite \n",
            "Bio:  B.S and M.S. from Tsinghua Univiversity.; Ph.D. from Princeton University. Joined Yale Faculty January 2020. Professor; Director of Graduate StudiesAKW 308a,  51 Prospect Street,  New Haven,  CT 06511lin.zhong@yale.eduPhone: 203-436-9450Website \n",
            "Bio:  B. Eng.,  Carnegie-Mellon University,  1969 M. Eng.,  Ph.D.,  Drexel University,  1972,  1975. Joined Yale Faculty 1996. David and Lucile Packard Professor of Computer Science and Biomedical EngineeringAKW 407,  51 Prospect St,  New Haven,  CT 06511steven.zucker@yale.eduPhone: 203-432-6434Website \n"
          ]
        }
      ]
    },
    {
      "cell_type": "code",
      "source": [
        "contact_info = tables.find_all('a')\n",
        "prof_conatctinfo = [x.get_text().rstrip() for x in contact_info]\n",
        "print(contact_info)\n"
      ],
      "metadata": {
        "colab": {
          "base_uri": "https://localhost:8080/"
        },
        "id": "rrtFWCx7k76f",
        "outputId": "9532460d-143d-4b57-f698-2e758fe76e85"
      },
      "execution_count": 18,
      "outputs": [
        {
          "output_type": "stream",
          "name": "stdout",
          "text": [
            "[<a class=\"username\" href=\"/people/james-aspnes\" title=\"View user profile.\">James Aspnes</a>, <a href=\"mailto:james.aspnes@yale.edu\">james.aspnes@yale.edu</a>, <a href=\"http://www.cs.yale.edu/homes/aspnes/\">Website</a>, <a class=\"username\" href=\"/people/abhishek-bhattacharjee\" title=\"View user profile.\">Abhishek Bhattacharjee</a>, <a href=\"mailto:abhishek@cs.yale.edu\">abhishek@cs.yale.edu</a>, <a href=\"http://www.cs.yale.edu/homes/abhishek/\">Website</a>, <a class=\"username\" href=\"/people/yang-cai\" title=\"View user profile.\">Yang Cai</a>, <a href=\"mailto:yang.cai@yale.edu\">yang.cai@yale.edu</a>, <a href=\"http://www.cs.yale.edu/homes/cai/\">Website</a>, <a class=\"username\" href=\"/people/arman-cohan\" title=\"View user profile.\">Arman Cohan</a>, <a href=\"mailto:arman.cohan@yale.edu\">arman.cohan@yale.edu</a>, <a href=\"http://armancohan.com/\">Website</a>, <a class=\"username\" href=\"/people/yongshan-ding\" title=\"View user profile.\">Yongshan Ding</a>, <a href=\"mailto:yongshan.ding@yale.edu\">yongshan.ding@yale.edu</a>, <a href=\"https://www.yongshanding.com/\">Website</a>, <a class=\"username\" href=\"/people/julie-dorsey\" title=\"View user profile.\">Julie Dorsey</a>, <a href=\"mailto:julie.dorsey@yale.edu\">julie.dorsey@yale.edu</a>, <a href=\"http://graphics.cs.yale.edu/site/people/julie-dorsey\">Website</a>, <a class=\"username\" href=\"/people/joan-feigenbaum\" title=\"View user profile.\">Joan Feigenbaum</a>, <a href=\"mailto:joan.feigenbaum@yale.edu\">joan.feigenbaum@yale.edu</a>, <a href=\"https://www.cs.yale.edu/homes/jf/\">Website</a>, <a class=\"username\" href=\"/people/ben-fisch\" title=\"View user profile.\">Ben Fisch</a>, <a href=\"mailto:benjamin.fisch@yale.edu\">benjamin.fisch@yale.edu</a>, <a href=\"https://sites.google.com/site/benafisch/home\">Website</a>, <a class=\"username\" href=\"/people/michael-fischer\" title=\"View user profile.\">Michael Fischer</a>, <a href=\"mailto:michael.fischer@yale.edu\">michael.fischer@yale.edu</a>, <a href=\"http://www.cs.yale.edu/homes/fischer/\">Website</a>, <a class=\"username\" href=\"/people/tesca-fitzgerald\" title=\"View user profile.\">Tesca Fitzgerald</a>, <a href=\"mailto:tesca.fitzgerald@yale.edu\">tesca.fitzgerald@yale.edu</a>, <a href=\"https://www.tescafitzgerald.com/\">Website</a>, <a class=\"username\" href=\"/people/david-gelernter\" title=\"View user profile.\">David Gelernter</a>, <a href=\"mailto:david.gelernter@yale.edu\">david.gelernter@yale.edu</a>, <a class=\"username\" href=\"/people/anurag-khandelwal\" title=\"View user profile.\">Anurag Khandelwal</a>, <a href=\"mailto:anurag.khandelwal_@yale.edu\">anurag.khandelwal_@yale.edu</a>, <a href=\"http://anuragkhandelwal.com/\">Website</a>, <a class=\"username\" href=\"/people/theodore-kim\" title=\"View user profile.\">Theodore Kim</a>, <a href=\"mailto:theodore.kim@yale.edu\">theodore.kim@yale.edu</a>, <a href=\"http://www.tkim.graphics/\">Website</a>, <a class=\"username\" href=\"/people/smita-krishnaswamy\" title=\"View user profile.\">Smita Krishnaswamy</a>, <a href=\"mailto:smita.krishnaswamy@yale.edu\">smita.krishnaswamy@yale.edu</a>, <a href=\"https://www.krishnaswamylab.org/\">Website</a>, <a class=\"username\" href=\"/people/charalampos-papamanthou\" title=\"View user profile.\">Charalampos Papamanthou</a>, <a href=\"mailto:charalampos.papamanthou@yale.edu\">charalampos.papamanthou@yale.edu</a>, <a href=\"https://www.cs.yale.edu/homes/cpap\">Website</a>, <a class=\"username\" href=\"/people/ruzica-piskac\" title=\"View user profile.\">Ruzica Piskac</a>, <a href=\"mailto:ruzica.piskac@yale.edu\">ruzica.piskac@yale.edu</a>, <a href=\"http://www.cs.yale.edu/homes/piskac/\">Website</a>, <a class=\"username\" href=\"/people/daniel-rakita\" title=\"View user profile.\">Daniel Rakita</a>, <a href=\"mailto:daniel.rakita@yale.edu\">daniel.rakita@yale.edu</a>, <a class=\"username\" href=\"/people/vladimir-rokhlin\" title=\"View user profile.\">Vladimir Rokhlin</a>, <a href=\"mailto:vladimir.rokhlin@yale.edu\">vladimir.rokhlin@yale.edu</a>, <a class=\"username\" href=\"/people/holly-rushmeier\" title=\"View user profile.\">Holly Rushmeier</a>, <a href=\"mailto:holly.rushmeier@yale.edu\">holly.rushmeier@yale.edu</a>, <a href=\"https://graphics.cs.yale.edu/people/holly-rushmeier\">Website</a>, <a class=\"username\" href=\"/people/brian-scassellati\" title=\"View user profile.\">Brian Scassellati</a>, <a href=\"mailto:brian.scassellati@yale.edu\">brian.scassellati@yale.edu</a>, <a href=\"http://cs-www.cs.yale.edu/homes/scaz/\">Website</a>, <a class=\"username\" href=\"/people/zhong-shao\" title=\"View user profile.\">Zhong Shao</a>, <a href=\"mailto:zhong.shao@yale.edu\">zhong.shao@yale.edu</a>, <a href=\"http://www.cs.yale.edu/homes/shao-zhong/\">Website</a>, <a class=\"username\" href=\"/people/abraham-silberschatz\" title=\"View user profile.\">Abraham Silberschatz</a>, <a href=\"mailto:abraham.silberschatz@yale.edu\">abraham.silberschatz@yale.edu</a>, <a href=\"http://codex.cs.yale.edu/avi/\">Website</a>, <a class=\"username\" href=\"/people/aikaterini-sotiraki\" title=\"View user profile.\">Aikaterini Sotiraki</a>, <a href=\"mailto:aikaterini.sotiraki@yale.edu\">aikaterini.sotiraki@yale.edu</a>, <a href=\"https://sotiraki.com/\">Website</a>, <a class=\"username\" href=\"/people/robert-soule\" title=\"View user profile.\">Robert Soulé</a>, <a href=\"mailto:robert.soule@yale.edu\">robert.soule@yale.edu</a>, <a href=\"http://www.cs.yale.edu/homes/soule/\">Website</a>, <a class=\"username\" href=\"/people/dan-spielman\" title=\"View user profile.\">Dan Spielman</a>, <a href=\"mailto:daniel.spielman@yale.edu\">daniel.spielman@yale.edu</a>, <a href=\"http://www.cs.yale.edu/homes/spielman/\">Website</a>, <a class=\"username\" href=\"/people/marynel-vazquez\" title=\"View user profile.\">Marynel Vázquez</a>, <a href=\"mailto:marynel.vazquez@yale.edu\">marynel.vazquez@yale.edu</a>, <a href=\"https://www.marynel.net/\">Website</a>, <a class=\"username\" href=\"/people/nisheeth-vishnoi\" title=\"View user profile.\">Nisheeth Vishnoi</a>, <a href=\"mailto:nisheeth.vishnoi@yale.edu\">nisheeth.vishnoi@yale.edu</a>, <a href=\"http://www.cs.yale.edu/homes/vishnoi/Home.html\">Website</a>, <a class=\"username\" href=\"/people/andre-wibisono\" title=\"View user profile.\">Andre Wibisono</a>, <a href=\"mailto:andre.wibisono@yale.edu\">andre.wibisono@yale.edu</a>, <a href=\"http://www.cs.yale.edu/homes/wibisono/\">Website</a>, <a class=\"username\" href=\"/people/alex-wong\" title=\"View user profile.\">Alex Wong</a>, <a href=\"mailto:alex.wong@yale.edu\">alex.wong@yale.edu</a>, <a href=\"https://www.cs.yale.edu/homes/wong-alex/\">Website</a>, <a class=\"username\" href=\"/people/y-richard-yang\" title=\"View user profile.\">Y. Richard Yang</a>, <a href=\"mailto:yang.r.yang@yale.edu\">yang.r.yang@yale.edu</a>, <a href=\"http://www.cs.yale.edu/homes/yry/\">Website</a>, <a class=\"username\" href=\"/people/zhitao-ying\" title=\"View user profile.\">Zhitao Ying</a>, <a href=\"mailto:zhitao.ying@yale.edu\">zhitao.ying@yale.edu</a>, <a href=\"https://www.cs.yale.edu/homes/ying-rex\">Website</a>, <a class=\"username\" href=\"/people/emmanouil-zampetakis\" title=\"View user profile.\">Emmanouil Zampetakis</a>, <a href=\"mailto:emmanouil.zampetakis@yale.edu\">emmanouil.zampetakis@yale.edu</a>, <a href=\"https://mzampet.com/\">Website</a>, <a class=\"username\" href=\"/people/fan-zhang\" title=\"View user profile.\">Fan Zhang</a>, <a href=\"mailto:f.zhang@yale.edu\">f.zhang@yale.edu</a>, <a href=\"https://fanzhang.me\">Website</a>, <a class=\"username\" href=\"/people/lin-zhong\" title=\"View user profile.\">Lin Zhong</a>, <a href=\"mailto:lin.zhong@yale.edu\">lin.zhong@yale.edu</a>, <a href=\"https://www.linzhong.org/\">Website</a>, <a class=\"username\" href=\"/people/steven-zucker\" title=\"View user profile.\">Steven Zucker</a>, <a href=\"mailto:steven.zucker@yale.edu\">steven.zucker@yale.edu</a>, <a href=\"http://www.cs.yale.edu/homes/vision/zucker/steve.html\">Website</a>]\n"
          ]
        }
      ]
    },
    {
      "cell_type": "code",
      "source": [
        "prof_conatctinfo = [x.get_text().rstrip() for x in contact_info]"
      ],
      "metadata": {
        "id": "241A6yZIbOEJ"
      },
      "execution_count": 19,
      "outputs": []
    },
    {
      "cell_type": "code",
      "source": [
        "prof_conatctinfo"
      ],
      "metadata": {
        "id": "vt5Rq1-NbY8a",
        "colab": {
          "base_uri": "https://localhost:8080/"
        },
        "outputId": "31944860-eae9-41ad-cbd6-3ab829662087"
      },
      "execution_count": 20,
      "outputs": [
        {
          "output_type": "execute_result",
          "data": {
            "text/plain": [
              "['James Aspnes',\n",
              " 'james.aspnes@yale.edu',\n",
              " 'Website',\n",
              " 'Abhishek Bhattacharjee',\n",
              " 'abhishek@cs.yale.edu',\n",
              " 'Website',\n",
              " 'Yang Cai',\n",
              " 'yang.cai@yale.edu',\n",
              " 'Website',\n",
              " 'Arman Cohan',\n",
              " 'arman.cohan@yale.edu',\n",
              " 'Website',\n",
              " 'Yongshan Ding',\n",
              " 'yongshan.ding@yale.edu',\n",
              " 'Website',\n",
              " 'Julie Dorsey',\n",
              " 'julie.dorsey@yale.edu',\n",
              " 'Website',\n",
              " 'Joan Feigenbaum',\n",
              " 'joan.feigenbaum@yale.edu',\n",
              " 'Website',\n",
              " 'Ben Fisch',\n",
              " 'benjamin.fisch@yale.edu',\n",
              " 'Website',\n",
              " 'Michael Fischer',\n",
              " 'michael.fischer@yale.edu',\n",
              " 'Website',\n",
              " 'Tesca Fitzgerald',\n",
              " 'tesca.fitzgerald@yale.edu',\n",
              " 'Website',\n",
              " 'David Gelernter',\n",
              " 'david.gelernter@yale.edu',\n",
              " 'Anurag Khandelwal',\n",
              " 'anurag.khandelwal_@yale.edu',\n",
              " 'Website',\n",
              " 'Theodore Kim',\n",
              " 'theodore.kim@yale.edu',\n",
              " 'Website',\n",
              " 'Smita Krishnaswamy',\n",
              " 'smita.krishnaswamy@yale.edu',\n",
              " 'Website',\n",
              " 'Charalampos Papamanthou',\n",
              " 'charalampos.papamanthou@yale.edu',\n",
              " 'Website',\n",
              " 'Ruzica Piskac',\n",
              " 'ruzica.piskac@yale.edu',\n",
              " 'Website',\n",
              " 'Daniel Rakita',\n",
              " 'daniel.rakita@yale.edu',\n",
              " 'Vladimir Rokhlin',\n",
              " 'vladimir.rokhlin@yale.edu',\n",
              " 'Holly Rushmeier',\n",
              " 'holly.rushmeier@yale.edu',\n",
              " 'Website',\n",
              " 'Brian Scassellati',\n",
              " 'brian.scassellati@yale.edu',\n",
              " 'Website',\n",
              " 'Zhong Shao',\n",
              " 'zhong.shao@yale.edu',\n",
              " 'Website',\n",
              " 'Abraham Silberschatz',\n",
              " 'abraham.silberschatz@yale.edu',\n",
              " 'Website',\n",
              " 'Aikaterini Sotiraki',\n",
              " 'aikaterini.sotiraki@yale.edu',\n",
              " 'Website',\n",
              " 'Robert Soulé',\n",
              " 'robert.soule@yale.edu',\n",
              " 'Website',\n",
              " 'Dan Spielman',\n",
              " 'daniel.spielman@yale.edu',\n",
              " 'Website',\n",
              " 'Marynel Vázquez',\n",
              " 'marynel.vazquez@yale.edu',\n",
              " 'Website',\n",
              " 'Nisheeth Vishnoi',\n",
              " 'nisheeth.vishnoi@yale.edu',\n",
              " 'Website',\n",
              " 'Andre Wibisono',\n",
              " 'andre.wibisono@yale.edu',\n",
              " 'Website',\n",
              " 'Alex Wong',\n",
              " 'alex.wong@yale.edu',\n",
              " 'Website',\n",
              " 'Y. Richard Yang',\n",
              " 'yang.r.yang@yale.edu',\n",
              " 'Website',\n",
              " 'Zhitao Ying',\n",
              " 'zhitao.ying@yale.edu',\n",
              " 'Website',\n",
              " 'Emmanouil Zampetakis',\n",
              " 'emmanouil.zampetakis@yale.edu',\n",
              " 'Website',\n",
              " 'Fan Zhang',\n",
              " 'f.zhang@yale.edu',\n",
              " 'Website',\n",
              " 'Lin Zhong',\n",
              " 'lin.zhong@yale.edu',\n",
              " 'Website',\n",
              " 'Steven Zucker',\n",
              " 'steven.zucker@yale.edu',\n",
              " 'Website']"
            ]
          },
          "metadata": {},
          "execution_count": 20
        }
      ]
    },
    {
      "cell_type": "code",
      "source": [
        "# Output file name\n",
        "output_file = \"faculty_bios.txt\"\n",
        "\n",
        "# Write bio data to the text file\n",
        "with open(output_file, \"w\") as file:\n",
        "    for bio in education:\n",
        "        file.write(bio + \"\\n\\n\")\n",
        "\n",
        "print(f\"Bio data has been written to {output_file}\")"
      ],
      "metadata": {
        "colab": {
          "base_uri": "https://localhost:8080/"
        },
        "id": "XuM0rMU65I7p",
        "outputId": "ba509238-6109-4db9-b13d-ed1bc7f35d7e"
      },
      "execution_count": 31,
      "outputs": [
        {
          "output_type": "stream",
          "name": "stdout",
          "text": [
            "Bio data has been written to faculty_bios.txt\n"
          ]
        }
      ]
    },
    {
      "cell_type": "code",
      "source": [
        "# Output file name\n",
        "output_file = \"faculty_contacts.txt\"\n",
        "\n",
        "# Write faculty information to the text file\n",
        "with open(output_file, \"w\") as file:\n",
        "    for info in prof_conatctinfo:\n",
        "        file.write(info + \"\\n\")\n",
        "\n",
        "print(f\"Faculty information has been written to {output_file}\")"
      ],
      "metadata": {
        "colab": {
          "base_uri": "https://localhost:8080/"
        },
        "id": "4lghcmCe6MJb",
        "outputId": "766b5eac-49ed-41fe-d034-0cdc6852d969"
      },
      "execution_count": 34,
      "outputs": [
        {
          "output_type": "stream",
          "name": "stdout",
          "text": [
            "Faculty information has been written to faculty_contacts.txt\n"
          ]
        }
      ]
    },
    {
      "cell_type": "code",
      "source": [
        "# Output file name\n",
        "output_file = \"faculty_names.txt\"\n",
        "\n",
        "# Write names to the text file\n",
        "with open(output_file, \"w\") as file:\n",
        "    for name in prof_names:\n",
        "        file.write(name + \"\\n\")\n",
        "\n",
        "print(f\"Names have been written to {output_file}\")"
      ],
      "metadata": {
        "colab": {
          "base_uri": "https://localhost:8080/"
        },
        "id": "5q5tcFlp7TBQ",
        "outputId": "c21e0c0d-9227-4000-cb77-41e0ffad5d40"
      },
      "execution_count": 35,
      "outputs": [
        {
          "output_type": "stream",
          "name": "stdout",
          "text": [
            "Names have been written to faculty_names.txt\n"
          ]
        }
      ]
    }
  ]
}